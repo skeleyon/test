{
 "cells": [
  {
   "cell_type": "code",
   "execution_count": 2,
   "id": "bfb22f79",
   "metadata": {},
   "outputs": [],
   "source": [
    "#contains all common functions\n",
    "from pywinauto.application import Application\n",
    "def launch(value):\n",
    "    return Application(backend = 'uia').start(value)\n",
    "    \n",
    "def visible(app, value):\n",
    "    return app.window(title = value).is_visible()\n",
    "    \n",
    "def click(app, value):\n",
    "    item = app.UntitledNotepad.child_window(title = value).wrapper_object()\n",
    "    item.click_input()\n",
    "    \n",
    "def checkForExistence(app, value):\n",
    "    return app.UntitledNotepad.child_window(title = value).exists()\n",
    "\n",
    "def notVisible(app, value):\n",
    "    return app.window(title =value).is_visible()"
   ]
  },
  {
   "cell_type": "code",
   "execution_count": null,
   "id": "26fd17da",
   "metadata": {},
   "outputs": [],
   "source": []
  },
  {
   "cell_type": "code",
   "execution_count": null,
   "id": "0332b7e7",
   "metadata": {},
   "outputs": [],
   "source": []
  },
  {
   "cell_type": "code",
   "execution_count": null,
   "id": "0340a105",
   "metadata": {},
   "outputs": [],
   "source": []
  },
  {
   "cell_type": "code",
   "execution_count": null,
   "id": "e010f3d1",
   "metadata": {},
   "outputs": [],
   "source": []
  }
 ],
 "metadata": {
  "kernelspec": {
   "display_name": "Python 3 (ipykernel)",
   "language": "python",
   "name": "python3"
  },
  "language_info": {
   "codemirror_mode": {
    "name": "ipython",
    "version": 3
   },
   "file_extension": ".py",
   "mimetype": "text/x-python",
   "name": "python",
   "nbconvert_exporter": "python",
   "pygments_lexer": "ipython3",
   "version": "3.9.9"
  }
 },
 "nbformat": 4,
 "nbformat_minor": 5
}
