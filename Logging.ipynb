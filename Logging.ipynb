{
 "cells": [
  {
   "cell_type": "code",
   "execution_count": 1,
   "id": "b82f4db5",
   "metadata": {},
   "outputs": [],
   "source": [
    "#contains logging and assertion functions\n",
    "import logging\n",
    "from datetime import datetime\n",
    "import linecache\n",
    "import sys\n",
    "\n",
    "#creates a new log file for every session\n",
    "def createLoggingFile():\n",
    "    now = datetime.now()\n",
    "    timestampStr = \"Notepad_\" + str(now.strftime(\"%d-%m-%y_%H_%M\")) + \".log\"\n",
    "    logging.basicConfig(filename=timestampStr,format='%(asctime)s %(message)s',filemode='w')  \n",
    "    logger = logging.getLogger()\n",
    "    logger.setLevel(logging.DEBUG)\n",
    "    return logger\n",
    "\n",
    "#log info message into file\n",
    "def info(logger, msg):\n",
    "    logger.info(msg)\n",
    "\n",
    "#log error message into file\n",
    "def error(logger, fileName, lineNo, line, exc):\n",
    "    logger.error(\"file name = %s : line number = %s : line = %s : Test failed due to %s\",fileName,lineNo,line,exc) \n",
    "\n",
    "#returns all the information about the failed test step\n",
    "def printException():\n",
    "    exc_type, exc_obj, tb = sys.exc_info()\n",
    "    f = tb.tb_frame\n",
    "    lineno = tb.tb_lineno\n",
    "    filename = f.f_code.co_filename\n",
    "    linecache.checkcache(filename)\n",
    "    line = linecache.getline(filename, lineno, f.f_globals)\n",
    "    return filename, lineno, line.strip(), exc_obj   \n"
   ]
  },
  {
   "cell_type": "code",
   "execution_count": null,
   "id": "79fdbede",
   "metadata": {},
   "outputs": [],
   "source": []
  }
 ],
 "metadata": {
  "kernelspec": {
   "display_name": "Python 3 (ipykernel)",
   "language": "python",
   "name": "python3"
  },
  "language_info": {
   "codemirror_mode": {
    "name": "ipython",
    "version": 3
   },
   "file_extension": ".py",
   "mimetype": "text/x-python",
   "name": "python",
   "nbconvert_exporter": "python",
   "pygments_lexer": "ipython3",
   "version": "3.9.9"
  }
 },
 "nbformat": 4,
 "nbformat_minor": 5
}
