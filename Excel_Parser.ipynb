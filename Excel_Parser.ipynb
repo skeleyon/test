{
 "cells": [
  {
   "cell_type": "code",
   "execution_count": 2,
   "id": "6a14bf62",
   "metadata": {},
   "outputs": [],
   "source": [
    "#contains all functions for reading from excel files\n",
    "import xlrd\n",
    "import pandas as pd\n",
    "\n",
    "class ExcelParser:\n",
    "\n",
    "    def open_book(self, name):\n",
    "        return xlrd.open_workbook(name)\n",
    "        \n",
    "    def open_sheet(self, book, sheet):\n",
    "        return book.sheet_by_name(sheet)\n",
    "    \n",
    "    #map column names to index\n",
    "    def mapColNamesToIndex(self, sheet):\n",
    "        return dict( (sheet.cell(0, i).value, i) for i in range(sheet.ncols) )\n",
    "    \n",
    "    #reads any particular cell and value\n",
    "    def readCellValues(self, sheet, row, col):\n",
    "        return sheet.cell(row, col).value\n",
    "    \n",
    "    #splits the cell value into path and action\n",
    "    def separatePathAndAction(self, step):\n",
    "        path = step.split(':')[1]\n",
    "        action = step.split(':')[0]\n",
    "        return path,action \n",
    "    #creates dictionary from object repository excel\n",
    "    def convertToJSON(self, book):\n",
    "        json = {}\n",
    "        for sheet in book.sheets():\n",
    "            name = sheet.name\n",
    "            sheet = book.sheet_by_name(name)\n",
    "            \n",
    "            for i in range(1,sheet.nrows):\n",
    "                    data = sheet.row_values(i)\n",
    "                    elementName = data[0]\n",
    "                    locator = data[1]\n",
    "                    json[elementName] = locator\n",
    "        return json"
   ]
  },
  {
   "cell_type": "code",
   "execution_count": null,
   "id": "4833d087",
   "metadata": {},
   "outputs": [],
   "source": []
  },
  {
   "cell_type": "code",
   "execution_count": null,
   "id": "905d8f66",
   "metadata": {},
   "outputs": [],
   "source": []
  }
 ],
 "metadata": {
  "kernelspec": {
   "display_name": "Python 3 (ipykernel)",
   "language": "python",
   "name": "python3"
  },
  "language_info": {
   "codemirror_mode": {
    "name": "ipython",
    "version": 3
   },
   "file_extension": ".py",
   "mimetype": "text/x-python",
   "name": "python",
   "nbconvert_exporter": "python",
   "pygments_lexer": "ipython3",
   "version": "3.9.9"
  }
 },
 "nbformat": 4,
 "nbformat_minor": 5
}
